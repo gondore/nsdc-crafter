{
  "cells": [
    {
      "cell_type": "markdown",
      "metadata": {
        "id": "view-in-github",
        "colab_type": "text"
      },
      "source": [
        "<a href=\"https://colab.research.google.com/github/gondore/nsdc-crafter/blob/main/dqn_implementation_2_20_24.ipynb\" target=\"_parent\"><img src=\"https://colab.research.google.com/assets/colab-badge.svg\" alt=\"Open In Colab\"/></a>"
      ]
    },
    {
      "cell_type": "markdown",
      "metadata": {
        "id": "uyoGSUOIp-fp"
      },
      "source": []
    },
    {
      "cell_type": "code",
      "execution_count": null,
      "metadata": {
        "collapsed": true,
        "id": "UvFK2pCKTLIs"
      },
      "outputs": [],
      "source": [
        "pip install gymnasium crafter stable_baselines3 shimmy[gym-v26]"
      ]
    },
    {
      "cell_type": "markdown",
      "metadata": {
        "id": "7-F_xxAn3gJq"
      },
      "source": []
    },
    {
      "cell_type": "markdown",
      "metadata": {
        "id": "BbsvmjYweHja"
      },
      "source": [
        "# **Quick Start**\n",
        "Replace '/content/sample_data/new_mount_2' with a new empty folder path in google colab. Replace other file paths with the same path you used appropriately.\n",
        "\n",
        "- After training, you will get a collection of short videos inside the file path – these are videos of each episode. W\n",
        "- We can use the dedicated video concatenation function to combine all the videos together as final_training_video.mp4.\n",
        "- data can be found through the stats.jsonl file generated in the file path after training"
      ]
    },
    {
      "cell_type": "code",
      "execution_count": null,
      "metadata": {
        "id": "rpiA-m5-TSAC"
      },
      "outputs": [],
      "source": [
        "import gymnasium as gym\n",
        "import crafter\n",
        "\n",
        "\n",
        "env = crafter.Env()\n",
        "env = crafter.Recorder(\n",
        "  env, '/content/sample_data/new_mount_2',\n",
        "  save_stats=True,\n",
        "  save_video=True,\n",
        "  save_episode=False,\n",
        ")\n",
        "import matplotlib.pyplot as plt\n",
        "import numpy as np"
      ]
    },
    {
      "cell_type": "code",
      "execution_count": null,
      "metadata": {
        "id": "IwQcCg39TVPl"
      },
      "outputs": [],
      "source": [
        "import numpy as np\n",
        "from skimage.color import rgb2gray\n",
        "from skimage import transform\n",
        "import matplotlib.pyplot as plt\n",
        "from collections import deque\n",
        "import random\n",
        "\n",
        "import warnings\n",
        "warnings.filterwarnings('ignore')"
      ]
    },
    {
      "cell_type": "code",
      "execution_count": null,
      "metadata": {
        "id": "lf1P43bsd60S"
      },
      "outputs": [],
      "source": []
    },
    {
      "cell_type": "code",
      "execution_count": null,
      "metadata": {
        "colab": {
          "base_uri": "https://localhost:8080/"
        },
        "id": "-9inXSNXT8T9",
        "outputId": "d972db16-ab31-4cf2-bd7c-b6a45d973156"
      },
      "outputs": [
        {
          "name": "stdout",
          "output_type": "stream",
          "text": [
            "The action size is :  17\n"
          ]
        }
      ],
      "source": [
        "print(\"The action size is : \", env.action_space.n)\n",
        "# one hot encode actions\n",
        "possible_actions = np.array(np.identity(env.action_space.n,dtype=int).tolist())\n"
      ]
    },
    {
      "cell_type": "markdown",
      "metadata": {
        "id": "V80Yl8BGh_nq"
      },
      "source": [
        "**Preprocessing observationspace**\n",
        "\n",
        "We could experiment with performance by playing with:\n",
        "\n",
        "- grayscale frames\n",
        "- normalizing pixel values\n",
        "- resize preprocessed frame/ cut off the health bar and inventory maybe?\n"
      ]
    },
    {
      "cell_type": "code",
      "execution_count": null,
      "metadata": {
        "id": "2Ijgwn-DRtTE"
      },
      "outputs": [],
      "source": [
        "def preprocess_frame(frame):\n",
        "    # Greyscale frame\n",
        "    gray = rgb2gray(frame)\n",
        "\n",
        "    # Normalize Pixel Values\n",
        "    normalized_frame = frame/255.0\n",
        "\n",
        "    # Resize\n",
        "    preprocessed_frame = transform.resize(normalized_frame, [110,84])\n",
        "\n",
        "    return preprocessed_frame # 110x84x1 frame"
      ]
    },
    {
      "cell_type": "code",
      "execution_count": null,
      "metadata": {
        "id": "f9nr2-omA3jb"
      },
      "outputs": [],
      "source": [
        "# try out using tensorboard maybe?\n",
        "#writer = tf.summary.FileWriter(\"/tensorboard/dqn/1\")\n",
        "\n",
        "## Losses\n",
        "#tf.summary.scalar(\"Loss\", DQNetwork.loss)\n",
        "\n",
        "#write_op = tf.summary.merge_all()"
      ]
    },
    {
      "cell_type": "code",
      "execution_count": null,
      "metadata": {
        "colab": {
          "base_uri": "https://localhost:8080/"
        },
        "id": "MaHzGWFoGPvI",
        "outputId": "e96e1727-abf8-43bb-e01f-ddf128266e09"
      },
      "outputs": [
        {
          "name": "stdout",
          "output_type": "stream",
          "text": [
            "Collecting gymnasium\n",
            "  Downloading gymnasium-0.29.1-py3-none-any.whl (953 kB)\n",
            "\u001b[2K     \u001b[90m━━━━━━━━━━━━━━━━━━━━━━━━━━━━━━━━━━━━━━━━\u001b[0m \u001b[32m953.9/953.9 kB\u001b[0m \u001b[31m5.7 MB/s\u001b[0m eta \u001b[36m0:00:00\u001b[0m\n",
            "\u001b[?25hRequirement already satisfied: torch in /usr/local/lib/python3.10/dist-packages (2.1.0+cu121)\n",
            "Requirement already satisfied: numpy in /usr/local/lib/python3.10/dist-packages (1.25.2)\n",
            "Requirement already satisfied: matplotlib in /usr/local/lib/python3.10/dist-packages (3.7.1)\n",
            "Requirement already satisfied: cloudpickle>=1.2.0 in /usr/local/lib/python3.10/dist-packages (from gymnasium) (2.2.1)\n",
            "Requirement already satisfied: typing-extensions>=4.3.0 in /usr/local/lib/python3.10/dist-packages (from gymnasium) (4.9.0)\n",
            "Collecting farama-notifications>=0.0.1 (from gymnasium)\n",
            "  Downloading Farama_Notifications-0.0.4-py3-none-any.whl (2.5 kB)\n",
            "Requirement already satisfied: filelock in /usr/local/lib/python3.10/dist-packages (from torch) (3.13.1)\n",
            "Requirement already satisfied: sympy in /usr/local/lib/python3.10/dist-packages (from torch) (1.12)\n",
            "Requirement already satisfied: networkx in /usr/local/lib/python3.10/dist-packages (from torch) (3.2.1)\n",
            "Requirement already satisfied: jinja2 in /usr/local/lib/python3.10/dist-packages (from torch) (3.1.3)\n",
            "Requirement already satisfied: fsspec in /usr/local/lib/python3.10/dist-packages (from torch) (2023.6.0)\n",
            "Requirement already satisfied: triton==2.1.0 in /usr/local/lib/python3.10/dist-packages (from torch) (2.1.0)\n",
            "Requirement already satisfied: contourpy>=1.0.1 in /usr/local/lib/python3.10/dist-packages (from matplotlib) (1.2.0)\n",
            "Requirement already satisfied: cycler>=0.10 in /usr/local/lib/python3.10/dist-packages (from matplotlib) (0.12.1)\n",
            "Requirement already satisfied: fonttools>=4.22.0 in /usr/local/lib/python3.10/dist-packages (from matplotlib) (4.49.0)\n",
            "Requirement already satisfied: kiwisolver>=1.0.1 in /usr/local/lib/python3.10/dist-packages (from matplotlib) (1.4.5)\n",
            "Requirement already satisfied: packaging>=20.0 in /usr/local/lib/python3.10/dist-packages (from matplotlib) (23.2)\n",
            "Requirement already satisfied: pillow>=6.2.0 in /usr/local/lib/python3.10/dist-packages (from matplotlib) (9.4.0)\n",
            "Requirement already satisfied: pyparsing>=2.3.1 in /usr/local/lib/python3.10/dist-packages (from matplotlib) (3.1.1)\n",
            "Requirement already satisfied: python-dateutil>=2.7 in /usr/local/lib/python3.10/dist-packages (from matplotlib) (2.8.2)\n",
            "Requirement already satisfied: six>=1.5 in /usr/local/lib/python3.10/dist-packages (from python-dateutil>=2.7->matplotlib) (1.16.0)\n",
            "Requirement already satisfied: MarkupSafe>=2.0 in /usr/local/lib/python3.10/dist-packages (from jinja2->torch) (2.1.5)\n",
            "Requirement already satisfied: mpmath>=0.19 in /usr/local/lib/python3.10/dist-packages (from sympy->torch) (1.3.0)\n",
            "Installing collected packages: farama-notifications, gymnasium\n",
            "Successfully installed farama-notifications-0.0.4 gymnasium-0.29.1\n"
          ]
        }
      ],
      "source": [
        "pip install gymnasium torch numpy matplotlib\n"
      ]
    },
    {
      "cell_type": "code",
      "execution_count": null,
      "metadata": {
        "id": "h8E4jDwKt-1n"
      },
      "outputs": [],
      "source": [
        "import torch\n",
        "import torch.nn as nn\n",
        "import torch.optim as optim\n",
        "import numpy as np\n",
        "import random\n",
        "from collections import deque\n",
        "import gymnasium as gym\n",
        "import matplotlib.pyplot as plt\n",
        "\n",
        "\n",
        "\n",
        "class ConvDQN(nn.Module):\n",
        "    def __init__(self, input_dim, output_dim):\n",
        "        super(ConvDQN, self).__init__()\n",
        "        self.conv_layers = nn.Sequential(\n",
        "            nn.Conv2d(3, 32, kernel_size=8, stride=4),  # input channels = 3 for RGB images\n",
        "            nn.ReLU(),\n",
        "            nn.Conv2d(32, 64, kernel_size=4, stride=2),\n",
        "            nn.ReLU(),\n",
        "            nn.Conv2d(64, 64, kernel_size=3, stride=1),\n",
        "            nn.ReLU()\n",
        "        )\n",
        "\n",
        "        self.fc_layers = nn.Sequential(\n",
        "            nn.Linear(64 * 4 * 4, 512),\n",
        "            nn.ReLU(),\n",
        "            nn.Linear(512, output_dim)\n",
        "        )\n",
        "\n",
        "    def forward(self, x):\n",
        "        x = x.permute(0, 3, 1, 2)  # Change image format from HWC to CHW expected by PyTorch\n",
        "        conv_out = self.conv_layers(x).reshape(x.size(0), -1)  # Flatten the output for the FC layers\n",
        "        return self.fc_layers(conv_out)\n",
        "\n"
      ]
    },
    {
      "cell_type": "code",
      "execution_count": null,
      "metadata": {
        "id": "4hp2Z4hpuGyk"
      },
      "outputs": [],
      "source": [
        "class ReplayBuffer:\n",
        "    def __init__(self, capacity):\n",
        "        self.buffer = deque(maxlen=capacity)\n",
        "\n",
        "    def push(self, state, action, reward, next_state, done):\n",
        "        self.buffer.append((state, action, reward, next_state, done))\n",
        "\n",
        "    def sample(self, batch_size):\n",
        "        state, action, reward, next_state, done = zip(*random.sample(self.buffer, batch_size))\n",
        "        return np.array(state), action, reward, np.array(next_state), done\n",
        "\n",
        "    def __len__(self):\n",
        "        return len(self.buffer)\n"
      ]
    },
    {
      "cell_type": "code",
      "execution_count": null,
      "metadata": {
        "id": "Ie3F4ZSNuKzy"
      },
      "outputs": [],
      "source": [
        "class DQNAgent:\n",
        "    def __init__(self, state_dim, action_dim, replay_buffer):\n",
        "        self.state_dim = state_dim\n",
        "        self.action_dim = action_dim\n",
        "        self.replay_buffer = replay_buffer\n",
        "        self.model = ConvDQN(state_dim, action_dim)\n",
        "        self.optimizer = optim.Adam(self.model.parameters())\n",
        "        self.criterion = nn.MSELoss()\n",
        "        self.epsilon = 0.99\n",
        "        self.epsilon_decay = 0.995\n",
        "        self.epsilon_min = 0.01\n",
        "        self.gamma = 0.99\n",
        "\n",
        "    def act(self, state):\n",
        "        if random.random() > self.epsilon:\n",
        "            state = torch.FloatTensor(state).unsqueeze(0)\n",
        "            q_values = self.model(state)\n",
        "            action = q_values.max(1)[1].item()\n",
        "        else:\n",
        "            action = random.randrange(self.action_dim)\n",
        "        return action\n",
        "\n",
        "    def train(self, batch_size):\n",
        "        if len(self.replay_buffer) < batch_size:\n",
        "            return\n",
        "        states, actions, rewards, next_states, dones = self.replay_buffer.sample(batch_size)\n",
        "        states = torch.FloatTensor(states)\n",
        "        next_states = torch.FloatTensor(next_states)\n",
        "        actions = torch.LongTensor(actions)\n",
        "        rewards = torch.FloatTensor(rewards)\n",
        "        dones = torch.FloatTensor(dones)\n",
        "\n",
        "        q_values = self.model(states).gather(1, actions.unsqueeze(1)).squeeze(1)\n",
        "        next_q_values = self.model(next_states).max(1)[0]\n",
        "        expected_q_values = rewards + self.gamma * next_q_values * (1 - dones)\n",
        "\n",
        "        loss = self.criterion(q_values, expected_q_values)\n",
        "        self.optimizer.zero_grad()\n",
        "        loss.backward()\n",
        "        self.optimizer.step()\n",
        "\n",
        "        if self.epsilon > self.epsilon_min:\n",
        "            self.epsilon *= self.epsilon_decay\n"
      ]
    },
    {
      "cell_type": "code",
      "execution_count": null,
      "metadata": {
        "colab": {
          "base_uri": "https://localhost:8080/"
        },
        "id": "fwiww--0uLXR",
        "outputId": "a3d1a5bc-3847-4132-8bbb-23fd94b04359"
      },
      "outputs": [
        {
          "name": "stdout",
          "output_type": "stream",
          "text": [
            "Episode: 0, Reward: 1.1\n",
            "Episode: 1, Reward: -0.8999999999999999\n",
            "Episode: 2, Reward: 2.099999999999999\n",
            "Episode: 3, Reward: 2.099999999999999\n",
            "Episode: 4, Reward: 3.099999999999999\n",
            "Episode: 5, Reward: 3.099999999999999\n",
            "Episode: 6, Reward: 4.1\n",
            "Episode: 7, Reward: 3.099999999999999\n",
            "Episode: 8, Reward: 4.099999999999999\n",
            "Episode: 9, Reward: 4.099999999999999\n"
          ]
        }
      ],
      "source": [
        "state_dim = np.prod(env.observation_space.shape)  # This ensures a flat vector input size is correctly identified\n",
        "action_dim = env.action_space.n\n",
        "\n",
        "#state_dim = env.observation_space.shape[0]\n",
        "action_dim = env.action_space.n\n",
        "replay_buffer = ReplayBuffer(10000)\n",
        "agent = DQNAgent(state_dim, action_dim, replay_buffer)\n",
        "\n",
        "def train_dqn(episodes):\n",
        "    rewards = []\n",
        "    for episode in range(episodes):\n",
        "        state = env.reset()\n",
        "        episode_reward = 0\n",
        "        while True:\n",
        "            action = agent.act(state)\n",
        "            next_state, reward, done, _ = env.step(action)\n",
        "            replay_buffer.push(state, action, reward, next_state, done)\n",
        "            state = next_state\n",
        "            episode_reward += reward\n",
        "            agent.train(32)\n",
        "            if done:\n",
        "                break\n",
        "        rewards.append(episode_reward)\n",
        "        print(f'Episode: {episode}, Reward: {episode_reward}')\n",
        "        agent.epsilon = max(agent.epsilon_min, agent.epsilon_decay * agent.epsilon)  # Decay epsilon\n",
        "    return rewards\n",
        "\n",
        "episodes = 10\n",
        "rewards = train_dqn(episodes)\n"
      ]
    },
    {
      "cell_type": "code",
      "execution_count": null,
      "metadata": {
        "colab": {
          "background_save": true
        },
        "id": "kqEAFc01xa-0"
      },
      "outputs": [],
      "source": [
        "from moviepy.editor import VideoFileClip, concatenate_videoclips\n",
        "import os\n",
        "\n",
        "video_directory = '/content/sample_data/new_mount_2'  # Ensure this is your correct directory\n",
        "video_files = [f for f in os.listdir(video_directory) if f.endswith('.mp4')]\n",
        "\n",
        "# Debug: Print out video files found (or not found)\n",
        "print(\"Found video files:\", video_files)\n",
        "\n",
        "if not video_files:\n",
        "    raise ValueError(\"No video files found in the directory.\")\n",
        "\n",
        "video_files.sort()  # Make sure this sorts the files in the order you expect\n",
        "\n",
        "# Full paths to video files\n",
        "video_paths = [os.path.join(video_directory, f) for f in video_files]\n",
        "\n",
        "# Load video clips\n",
        "clips = [VideoFileClip(f) for f in video_paths]\n",
        "\n",
        "# Concatenate the video clips\n",
        "final_clip = concatenate_videoclips(clips)\n",
        "\n",
        "# Save the concatenated video\n",
        "final_video_path = os.path.join(video_directory, 'final_training_video.mp4')\n",
        "final_clip.write_videofile(final_video_path)\n"
      ]
    },
    {
      "cell_type": "code",
      "execution_count": 31,
      "metadata": {
        "colab": {
          "base_uri": "https://localhost:8080/",
          "height": 471
        },
        "id": "65YKhrBbuN5f",
        "outputId": "96ea0a16-b2b0-486f-fe85-298a3533b867"
      },
      "outputs": [
        {
          "output_type": "display_data",
          "data": {
            "text/plain": [
              "<Figure size 640x480 with 1 Axes>"
            ],
            "image/png": "[encoded data removed]"
          },
          "metadata": {}
        }
      ],
      "source": [
        "plt.plot(range(episodes), rewards)\n",
        "plt.xlabel('Episode')\n",
        "plt.ylabel('Reward')\n",
        "plt.title('DQN Performance on Crafter Environment')\n",
        "plt.show()"
      ]
    },
    {
      "cell_type": "code",
      "execution_count": 32,
      "metadata": {
        "id": "UkrA8WpIwm_N"
      },
      "outputs": [],
      "source": []
    },
    {
      "cell_type": "markdown",
      "metadata": {
        "id": "xeR3Ie-8L3nT"
      },
      "source": [
        "# **analysis starter**\n",
        "- what actions were taken the most?\n",
        "- how does DQN agent’s performance change over time during training? is there a specific time step range where it spikes?\n",
        "    \n",
        "    → we can plot rewards over time, which can help us identify if and when the agent performance plateaus and in response change learning rate, epxloration strategy, network architecture\n",
        "    \n",
        "- how does DQN performance change due to learning rate, discount factor, and exploration decay changes\n",
        "    \n",
        "    → we can do a grid search or random search over the 3 hyperparameter values to see how the different ranges affect performance\n",
        "    \n",
        "- what is the agent’s major hump (the achievement that it gets stuck at)?\n",
        "\n",
        "→ figure out how to analyze the stats.json file and see the achievement max"
      ]
    },
    {
      "cell_type": "code",
      "execution_count": 35,
      "metadata": {
        "id": "e1ELPwXywt6u"
      },
      "outputs": [],
      "source": [
        "import json\n",
        "import pandas as pd\n",
        "\n",
        "stats_file_path = '/content/sample_data/new_mount_2/stats.jsonl'\n",
        "\n",
        "stats_data = []\n",
        "\n",
        "with open(stats_file_path, 'r') as file:\n",
        "    for line in file:\n",
        "        stats_data.append(json.loads(line))\n",
        "\n",
        "\n",
        "# create a DataFrame where each key becomes a column\n",
        "df_stats = pd.DataFrame(stats_data)\n",
        "\n"
      ]
    },
    {
      "cell_type": "code",
      "execution_count": null,
      "metadata": {
        "id": "qcXaZv6E0BYN"
      },
      "outputs": [],
      "source": [
        "# Display the first few rows of the DataFrame\n",
        "print(df_stats.head())\n",
        "\n",
        "# Summary statistics\n",
        "print(df_stats.describe())\n"
      ]
    },
    {
      "cell_type": "code",
      "execution_count": 39,
      "metadata": {
        "id": "8CnuV4Cc0D0M"
      },
      "outputs": [],
      "source": []
    },
    {
      "cell_type": "code",
      "execution_count": 39,
      "metadata": {
        "id": "McXTYYgS0E0b",
        "colab": {
          "base_uri": "https://localhost:8080/",
          "height": 515
        },
        "outputId": "c4092cf2-81ec-4970-9b10-bd90208f3cd0"
      },
      "outputs": [
        {
          "output_type": "display_data",
          "data": {
            "text/plain": [
              "<Figure size 1000x600 with 1 Axes>"
            ],
            "image/png": "[encoded data removed]"
          },
          "metadata": {}
        }
      ],
      "source": [
        "import matplotlib.pyplot as plt\n",
        "\n",
        "# Assuming 'reward' is the name of the column storing the reward per episode\n",
        "plt.figure(figsize=(10, 6))\n",
        "plt.plot(df_stats.index, df_stats['reward'], label='Reward per Episode')\n",
        "plt.xlabel('Episode')\n",
        "plt.ylabel('Reward')\n",
        "plt.title('Reward per Episode Over Training')\n",
        "plt.legend()\n",
        "plt.show()\n"
      ]
    },
    {
      "cell_type": "code",
      "execution_count": null,
      "metadata": {
        "id": "zhEioLgZ0mg_"
      },
      "outputs": [],
      "source": []
    }
  ],
  "metadata": {
    "colab": {
      "provenance": [],
      "mount_file_id": "1MLdfgYZdfr4kRefyumEJtSoVFY6hPPUX",
      "authorship_tag": "ABX9TyO5BfQE0Cxnc3SCNh9ro0W9",
      "include_colab_link": true
    },
    "kernelspec": {
      "display_name": "Python 3",
      "name": "python3"
    },
    "language_info": {
      "name": "python"
    }
  },
  "nbformat": 4,
  "nbformat_minor": 0
}
